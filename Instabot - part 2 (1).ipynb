{
 "cells": [
  {
   "cell_type": "code",
   "execution_count": null,
   "id": "06f92ebd",
   "metadata": {},
   "outputs": [],
   "source": []
  },
  {
   "cell_type": "code",
   "execution_count": 1,
   "id": "5c7f581f",
   "metadata": {},
   "outputs": [],
   "source": [
    "from selenium import webdriver\n",
    "from selenium.webdriver.support import expected_conditions as EC\n",
    "from selenium.webdriver.support.ui import WebDriverWait\n",
    "from selenium.webdriver.common.by import By\n",
    "from selenium.common.exceptions import TimeoutException\n",
    "from bs4 import BeautifulSoup\n",
    "import time"
   ]
  },
  {
   "cell_type": "code",
   "execution_count": 2,
   "id": "d9432dd1",
   "metadata": {},
   "outputs": [
    {
     "name": "stdout",
     "output_type": "stream",
     "text": [
      "\n"
     ]
    },
    {
     "name": "stderr",
     "output_type": "stream",
     "text": [
      "[WDM] - ====== WebDriver manager ======\n",
      "[WDM] - Current google-chrome version is 103.0.5060\n",
      "[WDM] - Get LATEST chromedriver version for 103.0.5060 google-chrome\n",
      "[WDM] - About to download new driver from https://chromedriver.storage.googleapis.com/103.0.5060.53/chromedriver_win32.zip\n",
      "[WDM] - Driver has been saved in cache [C:\\Users\\parik\\.wdm\\drivers\\chromedriver\\win32\\103.0.5060.53]\n"
     ]
    }
   ],
   "source": [
    "from selenium import webdriver\n",
    "from webdriver_manager.chrome import ChromeDriverManager\n",
    "from selenium.webdriver.chrome.service import Service\n",
    "s=Service(ChromeDriverManager().install())\n",
    "driver = webdriver.Chrome(service=s)"
   ]
  },
  {
   "cell_type": "code",
   "execution_count": 3,
   "id": "3906f099",
   "metadata": {},
   "outputs": [],
   "source": [
    "driver.get('https://www.instagram.com/')"
   ]
  },
  {
   "cell_type": "code",
   "execution_count": 4,
   "id": "13892edc",
   "metadata": {},
   "outputs": [],
   "source": [
    "# username and password here\n",
    "#username = 'SAMPLE USERNAME' \n",
    "#password = 'SAMPLE PASSWORD'\n",
    "# login informations can be input here"
   ]
  },
  {
   "cell_type": "code",
   "execution_count": 5,
   "id": "c28246bd",
   "metadata": {},
   "outputs": [],
   "source": [
    "wait = WebDriverWait(driver, 6)"
   ]
  },
  {
   "cell_type": "code",
   "execution_count": 6,
   "id": "4ed53029",
   "metadata": {},
   "outputs": [],
   "source": [
    "def LogIn():\n",
    "    try :\n",
    "        #locating username textbox and sending username\n",
    "        user_name = wait.until(EC.presence_of_element_located((By.NAME,'username')))\n",
    "        user_name.send_keys('username')\n",
    "        #locating password box and sending password\n",
    "        pwd = wait.until(EC.presence_of_element_located((By.NAME,'password')))\n",
    "        pwd.send_keys('password')\n",
    "        #locating login button \n",
    "        button = wait.until(EC.presence_of_element_located((By.XPATH,'//*[@id=\"loginForm\"]/div[1]/div[3]/button/div')))\n",
    "        button.submit()\n",
    "        #Save Your Login Info? : Not Now\n",
    "        pop = wait.until(EC.presence_of_element_located((By.XPATH,'//*[@id=\"react-root\"]/section/main/div/div/div/div/button')))\n",
    "        pop.click()\n",
    "        \n",
    "    except TimeoutException :\n",
    "        print (\"Something went wrong! Try Again\")"
   ]
  },
  {
   "cell_type": "code",
   "execution_count": 7,
   "id": "9c7b93b0",
   "metadata": {},
   "outputs": [],
   "source": [
    "LogIn()"
   ]
  },
  {
   "cell_type": "code",
   "execution_count": 9,
   "id": "91e17109",
   "metadata": {},
   "outputs": [],
   "source": [
    "## FOR TURN ON NOTIFICATIONS POP-UP\n",
    "#r=driver.find_element(By.XPATH,'//*[@id=\"mount_0_0_+z\"]/div/div[1]/div/div[2]/div/div/div[1]/div/div[2]/div/div/div/div/div/div/div/div[3]/button[2]')\n",
    "#r.click()"
   ]
  },
  {
   "cell_type": "code",
   "execution_count": 58,
   "id": "fcf1aa05",
   "metadata": {},
   "outputs": [],
   "source": [
    "\n",
    "def search_open_profile(s):\n",
    "    #locatong search box bar and sending text \n",
    "    search_box = wait.until(EC.presence_of_element_located((By.CLASS_NAME,'_aaw8')))\n",
    "    search_box.click()   \n",
    "    time.sleep(1)\n",
    "    type_box = wait.until(EC.presence_of_element_located((By.XPATH,'//*[@id=\"mount_0_0_xk\"]/div/div[1]/div/div[1]/div/div/div/div[1]/div[1]/section/nav/div[2]/div/div/div[2]/input')))\n",
    "    type_box.clear()\n",
    "    type_box.send_keys(s)\n",
    "    time.sleep(1)\n",
    "    res = wait.until(EC.presence_of_element_located((By.XPATH,'//*[@id=\"mount_0_0_xk\"]/div/div[1]/div/div[1]/div/div/div/div[1]/div[1]/section/nav/div[2]/div/div/div[2]/div[3]/div/div[2]/div/div[1]/a')))\n",
    "    res.click()"
   ]
  },
  {
   "cell_type": "code",
   "execution_count": 59,
   "id": "3e267323",
   "metadata": {},
   "outputs": [],
   "source": [
    "search_open_profile('food')"
   ]
  },
  {
   "cell_type": "markdown",
   "id": "8a7f7748",
   "metadata": {},
   "source": [
    "# Problem -1"
   ]
  },
  {
   "cell_type": "markdown",
   "id": "cdaf7ec3",
   "metadata": {},
   "source": [
    "Problem 1 : Analyse the habits of bloggers\n",
    "Now your friend has followed a lot of different food bloggers, he needs to analyse the habits of these bloggers.\n",
    "1.From the list of instagram handles you obtained when you searched ‘food’ in previous project. Open the first 10 handles and find the top 5 which have the highest number of followers\n",
    "2.Now Find the number of posts these handles have done in the previous 3 days.\n",
    "3.Depict this information using a suitable graph."
   ]
  },
  {
   "cell_type": "code",
   "execution_count": 11,
   "id": "4fbf36ab",
   "metadata": {},
   "outputs": [],
   "source": [
    "#First 10 handles from part-1\n",
    "handles_list = ['yourfoodlab','foodie_incarnate','foodmybff','foodporn','foodiewe','foodieshamsi','food',\n",
    "               'streetfoodrecipe','delhifoodwalks','foodcorps',]"
   ]
  },
  {
   "cell_type": "code",
   "execution_count": 12,
   "id": "e0c951ca",
   "metadata": {},
   "outputs": [],
   "source": [
    "from collections import OrderedDict"
   ]
  },
  {
   "cell_type": "code",
   "execution_count": 13,
   "id": "98ccbb39",
   "metadata": {},
   "outputs": [],
   "source": [
    "def top_5_handles(lst):\n",
    "    try:\n",
    "        #dct contains username with number of followers\n",
    "        dct = {}\n",
    "        for i in lst :\n",
    "            #This fuction will search a user and open that profile\n",
    "            search_open_profile(i)\n",
    "            time.sleep(2)\n",
    "            #locating followers of user\n",
    "            followers = wait.until(EC.presence_of_all_elements_located((By.CLASS_NAME,'_ac2a')))[1]\n",
    "            #replacing ',' with '' and converted into int\n",
    "            dct[i] = int(followers.get_attribute('title').replace(',' , ''))\n",
    "        #top 5 most followed user\n",
    "        count = 0\n",
    "        res = OrderedDict()\n",
    "        for i in sorted(dct, key=dct.get, reverse=True):\n",
    "            res[i] = dct[i]\n",
    "            count += 1\n",
    "            if(count >= 5) : \n",
    "                break\n",
    "                \n",
    "        return res\n",
    "    except TimeoutException :\n",
    "        print (\"Something went wrong! Try Again\")"
   ]
  },
  {
   "cell_type": "code",
   "execution_count": 14,
   "id": "5e7fa845",
   "metadata": {},
   "outputs": [],
   "source": [
    "top_handles = top_5_handles(handles_list)"
   ]
  },
  {
   "cell_type": "code",
   "execution_count": 15,
   "id": "3d14d188",
   "metadata": {},
   "outputs": [
    {
     "name": "stdout",
     "output_type": "stream",
     "text": [
      "Top 5 instagram handles which have the highest number of followers :\n",
      "foodie_incarnate -> 1994107\n",
      "foodmybff -> 1368582\n",
      "foodiewe -> 1021684\n",
      "delhifoodwalks -> 311290\n",
      "yourfoodlab -> 172799\n"
     ]
    }
   ],
   "source": [
    "print('Top 5 instagram handles which have the highest number of followers :')\n",
    "for uname in top_handles:\n",
    "    print(uname,'->',top_handles[uname])"
   ]
  },
  {
   "cell_type": "markdown",
   "id": "5e2e17a5",
   "metadata": {},
   "source": [
    "# problem 1.2"
   ]
  },
  {
   "cell_type": "markdown",
   "id": "d65af093",
   "metadata": {},
   "source": [
    " Find the number of posts these handles have done in the previous 3 days."
   ]
  },
  {
   "cell_type": "code",
   "execution_count": 16,
   "id": "ec61b283",
   "metadata": {},
   "outputs": [],
   "source": [
    "import datetime"
   ]
  },
  {
   "cell_type": "code",
   "execution_count": 20,
   "id": "1f84b0b5",
   "metadata": {},
   "outputs": [],
   "source": [
    "#this function returns number of post posted by user in n days\n",
    "def count_of_post():\n",
    "    try :\n",
    "        #locating first post\n",
    "        post = wait.until(EC.presence_of_element_located((By.CLASS_NAME,'_aagw')))\n",
    "        post.click()\n",
    "        \n",
    "        count = 0 \n",
    "        while True :\n",
    "            #getting date of the the post\n",
    "            temp = wait.until(EC.presence_of_element_located((By.CLASS_NAME,'_aaqe')))\n",
    "            #getting date in string format\n",
    "            date_string = temp.get_attribute('datetime')\n",
    "            #converting into date format\n",
    "            date = datetime.datetime.strptime(date_string[0:19], \"%Y-%m-%dT%H:%M:%S\")\n",
    "            #taking differnce between today's date and post posted date\n",
    "            if (datetime.datetime.now() - date).days > 3 :\n",
    "                break\n",
    "            else :\n",
    "                count += 1\n",
    "            #locating next button\n",
    "            time.sleep(1)\n",
    "            next_but = wait.until(EC.presence_of_element_located((By.XPATH,'//*[@id=\"mount_0_0_Qc\"]/div/div[1]/div/div[2]/div/div/div[1]/div/div[3]/div/div/div/div/div[1]/div/div/div[@class=\" _aaqg _aaqh\"]/button')))\n",
    "            next_but.click()\n",
    "        #closing the post\n",
    "        close=driver.find_element(By.XPATH,'//*[@id=\"mount_0_0_Qc\"]/div/div[1]/div/div[2]/div/div/div[1]/div/div[2]/div')\n",
    "        close.click()\n",
    "        return count\n",
    "    \n",
    "    except TimeoutException :\n",
    "        print (\"Something went wrong! Try Again\")"
   ]
  },
  {
   "cell_type": "code",
   "execution_count": 21,
   "id": "1e4246ec",
   "metadata": {},
   "outputs": [],
   "source": [
    "total_post_count = {}\n",
    "for i in top_handles :\n",
    "    search_open_profile(i)\n",
    "    time.sleep(1)\n",
    "    count = count_of_post()\n",
    "    total_post_count[i] = count"
   ]
  },
  {
   "cell_type": "code",
   "execution_count": 22,
   "id": "e3053708",
   "metadata": {},
   "outputs": [
    {
     "name": "stdout",
     "output_type": "stream",
     "text": [
      "Number of posts these handles have done in the previous 3 days : -\n",
      "foodie_incarnate 3\n",
      "foodmybff 3\n",
      "foodiewe 0\n",
      "delhifoodwalks 0\n",
      "yourfoodlab 5\n"
     ]
    }
   ],
   "source": [
    "print('Number of posts these handles have done in the previous 3 days : -')\n",
    "for i in total_post_count:\n",
    "    print(i,total_post_count[i])"
   ]
  },
  {
   "cell_type": "markdown",
   "id": "6a283f68",
   "metadata": {},
   "source": [
    "# Problem 1.3"
   ]
  },
  {
   "cell_type": "markdown",
   "id": "eee31bf5",
   "metadata": {},
   "source": [
    "Depicting  this information using a suitable graph."
   ]
  },
  {
   "cell_type": "code",
   "execution_count": 23,
   "id": "bbce73af",
   "metadata": {},
   "outputs": [],
   "source": [
    "from matplotlib import pyplot as plt"
   ]
  },
  {
   "cell_type": "code",
   "execution_count": 24,
   "id": "2aa0dfe3",
   "metadata": {},
   "outputs": [
    {
     "data": {
      "image/png": "[encoded data removed]",
      "text/plain": [
       "<Figure size 432x288 with 1 Axes>"
      ]
     },
     "metadata": {
      "needs_background": "light"
     },
     "output_type": "display_data"
    }
   ],
   "source": [
    "# using total_post_count to get username and number of post\n",
    "x = total_post_count.keys()\n",
    "y = total_post_count.values()\n",
    "plt.bar(x,y,color='b',alpha=0.6)\n",
    "plt.xticks(rotation = 30)\n",
    "plt.ylabel(\"Number of posts in the previous 3 days\",size=12)\n",
    "plt.xlabel(\"Username\",size=15)\n",
    "plt.title('Most Followed user vs Number of recent posts ',fontsize=20, color='green',alpha=0.8)\n",
    "plt.grid()\n",
    "plt.show()"
   ]
  },
  {
   "cell_type": "code",
   "execution_count": null,
   "id": "9d6efc33",
   "metadata": {},
   "outputs": [],
   "source": []
  },
  {
   "cell_type": "markdown",
   "id": "f5699861",
   "metadata": {},
   "source": [
    "# Problem 2"
   ]
  },
  {
   "cell_type": "markdown",
   "id": "82dba445",
   "metadata": {},
   "source": [
    "Your friend also needs a list of hashtags that he should use in his posts.\n",
    "1.Open the 5 handles you obtained in the last question, and scrape the content of the first 10 posts of each handle.\n",
    "2.Prepare a list of all words used in all the scraped posts and calculate the frequency of each word.\n",
    "3.Create a csv file with two columns : the word and its frequency\n",
    "4.Now, find the hashtags that were most popular among these bloggers\n",
    "5.Plot a Pie Chart of the top 5 hashtags obtained and the number of times they were used by these bloggers in the scraped posts."
   ]
  },
  {
   "cell_type": "code",
   "execution_count": 35,
   "id": "8b2ab49c",
   "metadata": {},
   "outputs": [],
   "source": [
    "def extract_content(lst):\n",
    "    try :\n",
    "        hashtags_list = []\n",
    "        for user in lst:\n",
    "            #This fuction will search a user and open that profile\n",
    "            search_open_profile(user)\n",
    "            time.sleep(2)\n",
    "            #just for scrolling to getting post\n",
    "            driver.execute_script('window.scrollTo(0, 3000);')\n",
    "            time.sleep(2)\n",
    "            driver.execute_script('window.scrollTo(0, -3000);')\n",
    "            time.sleep(2)\n",
    "            #locating the post of the user\n",
    "            posts = driver.find_elements(By.CLASS_NAME,'_aagw')\n",
    "            for post in posts[:10]:\n",
    "                post.click()\n",
    "                time.sleep(2)\n",
    "                #locating all hashtag used in this post\n",
    "                hashtags=driver.find_elements(By.XPATH,'//*[@id=\"mount_0_0_Qc\"]/div/div[1]/div/div[2]/div/div/div[1]/div/div[3]/div/div/div/div/div[2]/div/article/div/div[2]/div/div/div[2]/div[1]/ul/div/li/div/div/div[2]/div[1]/span/a')\n",
    "                for hashtag in hashtags:\n",
    "                    #appending in list\n",
    "                    hashtags_list.append(hashtag.text)  \n",
    "                \n",
    "                #locating close button and clicking on it\n",
    "                close=driver.find_element(By.XPATH,'//*[@id=\"mount_0_0_Qc\"]/div/div[1]/div/div[2]/div/div/div[1]/div/div[2]/div')\n",
    "                time.sleep(1)\n",
    "                close.click()\n",
    "        return hashtags_list\n",
    "    \n",
    "    except TimeoutException :\n",
    "        print (\"Something went wrong! Try Again\")"
   ]
  },
  {
   "cell_type": "code",
   "execution_count": 36,
   "id": "04e0b1a6",
   "metadata": {},
   "outputs": [],
   "source": [
    "handles = list(total_post_count.keys())\n",
    "hashtags = extract_content(handles)"
   ]
  },
  {
   "cell_type": "code",
   "execution_count": 37,
   "id": "bf85d12e",
   "metadata": {},
   "outputs": [
    {
     "name": "stdout",
     "output_type": "stream",
     "text": [
      "['#foodieincarnate', '#Reelitfeelit', '#reelkarofeelkaro', '#reelsinstagram', '#reels', '#paan', '#viralfood', '#explore', '#streetfood', '#foodieincarnate', '#amarsirohi', '#foodieincarnate', '#sodelhi', '#newdelhi', '#foodtalkindia', '#delhigram', '#indianfood', '#delhifoodblogger', '#foodgasm', '#foodporn', '#foodpornshare', '#foodlover', '#foodgram', '#foodiesofinstagram', '#foodie', '#indianstreetfood', '#streetfood', '#delhistreetfood', '#streetfoodindia', '#mumbaistreetfood', '#delhifoodie', '#foodblogger', '#indianfoodie', '#desikhana', '#indianfoodblogger', '#indianfoodbloggers', '#delhifood', '#mumbai', '#delhi', '#agra', '#batasha', '#foodieincarnate', '#Reelitfeelit', '#reelkarofeelkaro', '#reelsinstagram', '#reels', '#dessert', '#mithai', '#indianfood', '#viralfood', '#explore', '#foodieincarnate', '#fruitsalad', '#freshfruit', '#surat', '#foodieincarnate', '#sodelhi', '#newdelhi', '#foodtalkindia', '#delhigram', '#indianfood', '#delhifoodblogger', '#foodgasm', '#foodporn', '#foodpornshare', '#foodlover', '#foodgram', '#foodiesofinstagram', '#foodie', '#indianstreetfood', '#streetfood', '#delhistreetfood', '#streetfoodindia', '#mumbaistreetfood', '#delhifoodie', '#foodblogger', '#indianfoodie', '#desikhana', '#indianfoodblogger', '#indianfoodbloggers', '#delhifood', '#mumbai', '#delhi', '#hathras', '#chanachivda', '#foodieincarnate', '#Reelitfeelit', '#reelkarofeelkaro', '#reelsinstagram', '#reels', '#dosa', '#southindianfood', '#southindian', '#viralfood', '#explore', '#foodieincarnate', '#amarsirohi', '#kufri', '#himachal', '#himachalpradesh', '#foodieincarnate', '#sodelhi', '#newdelhi', '#foodtalkindia', '#delhigram', '#indianfood', '#delhifoodblogger', '#foodgasm', '#foodporn', '#foodpornshare', '#foodlover', '#foodgram', '#foodiesofinstagram', '#foodie', '#indianstreetfood', '#streetfood', '#delhistreetfood', '#streetfoodindia', '#mumbaistreetfood', '#delhifoodie', '#foodblogger', '#indianfoodie', '#desikhana', '#indianfoodblogger', '#indianfoodbloggers', '#delhifood', '#mumbai', '#delhi', '#food', '#middaymeal', '#Foodieincarnate', '#Reelitfeelit', '#reelkarofeelkaro', '#reelsinstagram', '#reels', '#paratha', '#streetfood', '#viralfood', '#explore', '#nagpur', '#foodieincarnate', '#Reelitfeelit', '#reelkarofeelkaro', '#reelsinstagram', '#reels', '#paan', '#viralfood', '#explore', '#streetfood', '#foodieincarnate', '#amarsirohi', '#foodieincarnate', '#sodelhi', '#newdelhi', '#foodtalkindia', '#delhigram', '#indianfood', '#delhifoodblogger', '#foodgasm', '#foodporn', '#foodpornshare', '#foodlover', '#foodgram', '#foodiesofinstagram', '#foodie', '#indianstreetfood', '#streetfood', '#delhistreetfood', '#streetfoodindia', '#mumbaistreetfood', '#delhifoodie', '#foodblogger', '#indianfoodie', '#desikhana', '#indianfoodblogger', '#indianfoodbloggers', '#delhifood', '#mumbai', '#delhi', '#agra', '#batasha', '#foodieincarnate', '#Reelitfeelit', '#reelkarofeelkaro', '#reelsinstagram', '#reels', '#dessert', '#mithai', '#indianfood', '#viralfood', '#explore', '#foodieincarnate', '#fruitsalad', '#freshfruit', '#surat', '#foodieincarnate', '#sodelhi', '#newdelhi', '#foodtalkindia', '#delhigram', '#indianfood', '#delhifoodblogger', '#foodgasm', '#foodporn', '#foodpornshare', '#foodlover', '#foodgram', '#foodiesofinstagram', '#foodie', '#indianstreetfood', '#streetfood', '#delhistreetfood', '#streetfoodindia', '#mumbaistreetfood', '#delhifoodie', '#foodblogger', '#indianfoodie', '#desikhana', '#indianfoodblogger', '#indianfoodbloggers', '#delhifood', '#mumbai', '#delhi', '#hathras', '#chanachivda', '#foodieincarnate', '#Reelitfeelit', '#reelkarofeelkaro', '#reelsinstagram', '#reels', '#dosa', '#southindianfood', '#southindian', '#viralfood', '#explore', '#foodieincarnate', '#amarsirohi', '#kufri', '#himachal', '#himachalpradesh', '#foodieincarnate', '#sodelhi', '#newdelhi', '#foodtalkindia', '#delhigram', '#indianfood', '#delhifoodblogger', '#foodgasm', '#foodporn', '#foodpornshare', '#foodlover', '#foodgram', '#foodiesofinstagram', '#foodie', '#indianstreetfood', '#streetfood', '#delhistreetfood', '#streetfoodindia', '#mumbaistreetfood', '#delhifoodie', '#foodblogger', '#indianfoodie', '#desikhana', '#indianfoodblogger', '#indianfoodbloggers', '#delhifood', '#mumbai', '#delhi', '#food', '#middaymeal', '#Foodieincarnate', '#Reelitfeelit', '#reelkarofeelkaro', '#reelsinstagram', '#reels', '#paratha', '#streetfood', '#viralfood', '#explore', '#nagpur', '@caramiamillburn', '#desserts', '#dessert', '#food', '#chocolate', '#cake', '#foodporn', '#instafood', '#delicious', '#icecream', '#sweet', '#yummy', '#foodie', '#pastry', '#instagood', '#cakes', '#foodphotography', '#dessertporn', '#baking', '#sweettooth', '#foodblogger', '#sweets', '#bakery', '#tasty', '#yum', '#foods', '#love', '#foodstagram', '#foodgasm', '#foodpics', '#homemade', '@thesaltydonut', '@stickaforkinme', '@_ilfoodchevale', '@mrwhippy_salerno', '@fegourmet', '@thenaughtyfork', '#reels', '#instagram', '#reelsinstagram', '#trending', '#viral', '#love', '#explore', '#instagood', '#reelitfeelit', '#india', '#photography', '#fyp', '#reel', '#instadaily', '#like', '#reelsvideo', '#memes', '#foryou', '#fashion', '#reelkarofeelkaro', '#music', '#instagramreels', '#insta', '#foodiewe', '#omgvlogs', '#reels', '#instagram', '#reelsinstagram', '#trending', '#viral', '#love', '#explore', '#instagood', '#reelitfeelit', '#india', '#photography', '#fyp', '#reel', '#instadaily', '#like', '#reelsvideo', '#memes', '#foryou', '#fashion', '#reelkarofeelkaro', '#music', '#instagramreels', '#insta', '#foodiewe', '#omgvlogs', '#reels', '#instagram', '#reelsinstagram', '#trending', '#viral', '#love', '#explore', '#instagood', '#reelitfeelit', '#india', '#photography', '#fyp', '#reel', '#instadaily', '#like', '#reelsvideo', '#memes', '#foryou', '#fashion', '#reelkarofeelkaro', '#music', '#instagramreels', '#insta', '#foodiewe', '#omgvlogs', '#reels', '#instagram', '#reelsinstagram', '#trending', '#viral', '#love', '#explore', '#instagood', '#reelitfeelit', '#india', '#photography', '#fyp', '#reel', '#instadaily', '#like', '#reelsvideo', '#memes', '#foryou', '#fashion', '#reelkarofeelkaro', '#music', '#instagramreels', '#insta', '#foodiewe', '#omgvlogs', '#reels', '#instagram', '#reelsinstagram', '#trending', '#viral', '#love', '#explore', '#instagood', '#reelitfeelit', '#india', '#photography', '#fyp', '#reel', '#instadaily', '#like', '#reelsvideo', '#memes', '#foryou', '#fashion', '#reelkarofeelkaro', '#music', '#instagramreels', '#insta', '#foodiewe', '#omgvlogs', '#reels', '#instagram', '#reelsinstagram', '#trending', '#viral', '#love', '#explore', '#instagood', '#reelitfeelit', '#india', '#photography', '#fyp', '#reel', '#instadaily', '#like', '#reelsvideo', '#memes', '#foryou', '#fashion', '#reelkarofeelkaro', '#music', '#instagramreels', '#insta', '#foodiewe', '#omgvlogs', '#reels', '#instagram', '#reelsinstagram', '#trending', '#viral', '#love', '#explore', '#instagood', '#reelitfeelit', '#india', '#photography', '#fyp', '#reel', '#instadaily', '#like', '#reelsvideo', '#memes', '#foryou', '#fashion', '#reelkarofeelkaro', '#music', '#instagramreels', '#insta', '#foodiewe', '#omgvlogs', '#reels', '#instagram', '#reelsinstagram', '#trending', '#viral', '#love', '#explore', '#instagood', '#reelitfeelit', '#india', '#photography', '#fyp', '#reel', '#instadaily', '#like', '#reelsvideo', '#memes', '#foryou', '#fashion', '#reelkarofeelkaro', '#music', '#instagramreels', '#insta', '#foodiewe', '#omgvlogs', '#omgvlogs', '#foodiewe', '#muktigautam', '#onkarrandhawa', '#meme', '#funny', '#couplegoals', '#reels', '#funny', '#wedding', '#expectations', '#reality', '#foodiewe', '#omgvlogs', '#vlogger', '#youtube', '#youtubeindia', '#dfwindarjeeling', '#darjeelingfoodtour', '#foodwalkawithanubhav', '#darjeeling', '#darjeelingdiaries', '#dfwindarjeeling', '#darjeelingfoodtour', '#foodwalkawithanubhav', '#darjeeling', '#darjeelingdiaries', '@teendobato', '#dfwindarjeeling', '#darjeelingfoodtour', '#foodwalkawithanubhav', '#darjeeling', '#darjeelingdiaries', '@_kasoest_', '@mjgul1', '#eidmubarak2022', '#eid', '#eiduladha2022', '@anubhav.sapra', '@ujjawalchettri', '#dfwindarjeeling', '#darjeelingfoodtour', '#foodwalkawithanubhav', '#darjeeling', '#darjeelingdiaries', '@bihar_central', '#ahunamutton', '#champaranmeat', '#dfwindarjeeling', '#darjeelingfoodtour', '#foodtour', '#foodwalks', '#delhifoodwalks', '#foodwalkswithanubhav', '#dfwindarjeeling', '#darjeelingfoodtour', '#foodtour', '#foodwalks', '#delhifoodwalks', '#foodwalkswithanubhav', '@withregram', '@kunbacafe']\n"
     ]
    }
   ],
   "source": [
    "print(hashtags)"
   ]
  },
  {
   "cell_type": "code",
   "execution_count": 38,
   "id": "ea26e5e3",
   "metadata": {},
   "outputs": [
    {
     "name": "stdout",
     "output_type": "stream",
     "text": [
      "#foodieincarnate 18\n",
      "#reels 17\n",
      "#reelkarofeelkaro 16\n",
      "#reelsinstagram 16\n",
      "#explore 16\n",
      "#streetfood 10\n",
      "#foodiewe 10\n",
      "#omgvlogs 10\n",
      "#instagood 9\n",
      "#love 9\n",
      "#Reelitfeelit 8\n",
      "#viralfood 8\n",
      "#indianfood 8\n",
      "#instagram 8\n",
      "#trending 8\n",
      "#viral 8\n",
      "#reelitfeelit 8\n",
      "#india 8\n",
      "#photography 8\n",
      "#fyp 8\n",
      "#reel 8\n",
      "#instadaily 8\n",
      "#like 8\n",
      "#reelsvideo 8\n",
      "#memes 8\n",
      "#foryou 8\n",
      "#fashion 8\n",
      "#music 8\n",
      "#instagramreels 8\n",
      "#insta 8\n",
      "#foodgasm 7\n",
      "#foodporn 7\n",
      "#foodie 7\n",
      "#foodblogger 7\n",
      "#sodelhi 6\n",
      "#newdelhi 6\n",
      "#foodtalkindia 6\n",
      "#delhigram 6\n",
      "#delhifoodblogger 6\n",
      "#foodpornshare 6\n",
      "#foodlover 6\n",
      "#foodgram 6\n",
      "#foodiesofinstagram 6\n",
      "#indianstreetfood 6\n",
      "#delhistreetfood 6\n",
      "#streetfoodindia 6\n",
      "#mumbaistreetfood 6\n",
      "#delhifoodie 6\n",
      "#indianfoodie 6\n",
      "#desikhana 6\n",
      "#indianfoodblogger 6\n",
      "#indianfoodbloggers 6\n",
      "#delhifood 6\n",
      "#mumbai 6\n",
      "#delhi 6\n",
      "#dfwindarjeeling 6\n",
      "#darjeelingfoodtour 6\n",
      "#amarsirohi 4\n",
      "#foodwalkawithanubhav 4\n",
      "#darjeeling 4\n",
      "#darjeelingdiaries 4\n",
      "#dessert 3\n",
      "#food 3\n",
      "#paan 2\n",
      "#agra 2\n",
      "#batasha 2\n",
      "#mithai 2\n",
      "#fruitsalad 2\n",
      "#freshfruit 2\n",
      "#surat 2\n",
      "#hathras 2\n",
      "#chanachivda 2\n",
      "#dosa 2\n",
      "#southindianfood 2\n",
      "#southindian 2\n",
      "#kufri 2\n",
      "#himachal 2\n",
      "#himachalpradesh 2\n",
      "#middaymeal 2\n",
      "#Foodieincarnate 2\n",
      "#paratha 2\n",
      "#nagpur 2\n",
      "#funny 2\n",
      "#foodtour 2\n",
      "#foodwalks 2\n",
      "#delhifoodwalks 2\n",
      "#foodwalkswithanubhav 2\n",
      "@caramiamillburn 1\n",
      "#desserts 1\n",
      "#chocolate 1\n",
      "#cake 1\n",
      "#instafood 1\n",
      "#delicious 1\n",
      "#icecream 1\n",
      "#sweet 1\n",
      "#yummy 1\n",
      "#pastry 1\n",
      "#cakes 1\n",
      "#foodphotography 1\n",
      "#dessertporn 1\n",
      "#baking 1\n",
      "#sweettooth 1\n",
      "#sweets 1\n",
      "#bakery 1\n",
      "#tasty 1\n",
      "#yum 1\n",
      "#foods 1\n",
      "#foodstagram 1\n",
      "#foodpics 1\n",
      "#homemade 1\n",
      "@thesaltydonut 1\n",
      "@stickaforkinme 1\n",
      "@_ilfoodchevale 1\n",
      "@mrwhippy_salerno 1\n",
      "@fegourmet 1\n",
      "@thenaughtyfork 1\n",
      "#muktigautam 1\n",
      "#onkarrandhawa 1\n",
      "#meme 1\n",
      "#couplegoals 1\n",
      "#wedding 1\n",
      "#expectations 1\n",
      "#reality 1\n",
      "#vlogger 1\n",
      "#youtube 1\n",
      "#youtubeindia 1\n",
      "@teendobato 1\n",
      "@_kasoest_ 1\n",
      "@mjgul1 1\n",
      "#eidmubarak2022 1\n",
      "#eid 1\n",
      "#eiduladha2022 1\n",
      "@anubhav.sapra 1\n",
      "@ujjawalchettri 1\n",
      "@bihar_central 1\n",
      "#ahunamutton 1\n",
      "#champaranmeat 1\n",
      "@withregram 1\n",
      "@kunbacafe 1\n"
     ]
    }
   ],
   "source": [
    "dct = {}\n",
    "words_list = []\n",
    "for word in hashtags:\n",
    "    dct[word] = dct.get(word,0) + 1\n",
    "    \n",
    "for i in sorted(dct, key=dct.get, reverse=True):\n",
    "    words_list.append([i,dct[i]])\n",
    "    print(i,dct[i])"
   ]
  },
  {
   "cell_type": "code",
   "execution_count": 39,
   "id": "8eecfdc5",
   "metadata": {},
   "outputs": [],
   "source": [
    "import pandas as pd"
   ]
  },
  {
   "cell_type": "code",
   "execution_count": 40,
   "id": "8aa6b99e",
   "metadata": {},
   "outputs": [
    {
     "data": {
      "text/html": [
       "<div>\n",
       "<style scoped>\n",
       "    .dataframe tbody tr th:only-of-type {\n",
       "        vertical-align: middle;\n",
       "    }\n",
       "\n",
       "    .dataframe tbody tr th {\n",
       "        vertical-align: top;\n",
       "    }\n",
       "\n",
       "    .dataframe thead th {\n",
       "        text-align: right;\n",
       "    }\n",
       "</style>\n",
       "<table border=\"1\" class=\"dataframe\">\n",
       "  <thead>\n",
       "    <tr style=\"text-align: right;\">\n",
       "      <th></th>\n",
       "      <th>Words</th>\n",
       "      <th>Frequency</th>\n",
       "    </tr>\n",
       "  </thead>\n",
       "  <tbody>\n",
       "    <tr>\n",
       "      <th>0</th>\n",
       "      <td>#foodieincarnate</td>\n",
       "      <td>18</td>\n",
       "    </tr>\n",
       "    <tr>\n",
       "      <th>1</th>\n",
       "      <td>#reels</td>\n",
       "      <td>17</td>\n",
       "    </tr>\n",
       "    <tr>\n",
       "      <th>2</th>\n",
       "      <td>#reelkarofeelkaro</td>\n",
       "      <td>16</td>\n",
       "    </tr>\n",
       "    <tr>\n",
       "      <th>3</th>\n",
       "      <td>#reelsinstagram</td>\n",
       "      <td>16</td>\n",
       "    </tr>\n",
       "    <tr>\n",
       "      <th>4</th>\n",
       "      <td>#explore</td>\n",
       "      <td>16</td>\n",
       "    </tr>\n",
       "    <tr>\n",
       "      <th>5</th>\n",
       "      <td>#streetfood</td>\n",
       "      <td>10</td>\n",
       "    </tr>\n",
       "    <tr>\n",
       "      <th>6</th>\n",
       "      <td>#foodiewe</td>\n",
       "      <td>10</td>\n",
       "    </tr>\n",
       "    <tr>\n",
       "      <th>7</th>\n",
       "      <td>#omgvlogs</td>\n",
       "      <td>10</td>\n",
       "    </tr>\n",
       "    <tr>\n",
       "      <th>8</th>\n",
       "      <td>#instagood</td>\n",
       "      <td>9</td>\n",
       "    </tr>\n",
       "    <tr>\n",
       "      <th>9</th>\n",
       "      <td>#love</td>\n",
       "      <td>9</td>\n",
       "    </tr>\n",
       "  </tbody>\n",
       "</table>\n",
       "</div>"
      ],
      "text/plain": [
       "               Words  Frequency\n",
       "0   #foodieincarnate         18\n",
       "1             #reels         17\n",
       "2  #reelkarofeelkaro         16\n",
       "3    #reelsinstagram         16\n",
       "4           #explore         16\n",
       "5        #streetfood         10\n",
       "6          #foodiewe         10\n",
       "7          #omgvlogs         10\n",
       "8         #instagood          9\n",
       "9              #love          9"
      ]
     },
     "execution_count": 40,
     "metadata": {},
     "output_type": "execute_result"
    }
   ],
   "source": [
    "df = pd.DataFrame(words_list,columns=['Words','Frequency'])\n",
    "#using .to_csv pandas function to convert dataframe to csv\n",
    "df.to_csv('words_frequency.csv',index=False)\n",
    "df.head(10)"
   ]
  },
  {
   "cell_type": "code",
   "execution_count": 41,
   "id": "46b6c8a8",
   "metadata": {},
   "outputs": [
    {
     "name": "stdout",
     "output_type": "stream",
     "text": [
      "#foodieincarnate\n"
     ]
    }
   ],
   "source": [
    "print(words_list[0][0])"
   ]
  },
  {
   "cell_type": "code",
   "execution_count": 42,
   "id": "bb9d8079",
   "metadata": {},
   "outputs": [
    {
     "data": {
      "image/png": "[encoded data removed]",
      "text/plain": [
       "<Figure size 864x432 with 1 Axes>"
      ]
     },
     "metadata": {},
     "output_type": "display_data"
    }
   ],
   "source": [
    "#using answer of problem 2.2\n",
    "hashtag_name = [words_list[0][0],words_list[1][0],words_list[2][0],words_list[3][0],words_list[4][0]]\n",
    "count = [words_list[0][1],words_list[1][1],words_list[2][1],words_list[3][1],words_list[4][1]]\n",
    "plt.figure(figsize=(12,6))\n",
    "plt.pie(count,labels=hashtag_name,autopct='%0.2f%%',radius=1,counterclock=False,startangle=110)\n",
    "plt.title('Top 5 Hashtags used by bloggers ',fontsize=20, color='green',alpha=0.8)\n",
    "plt.show()"
   ]
  },
  {
   "cell_type": "code",
   "execution_count": null,
   "id": "43181be2",
   "metadata": {},
   "outputs": [],
   "source": []
  },
  {
   "cell_type": "markdown",
   "id": "245c6836",
   "metadata": {},
   "source": [
    "# Problem 3"
   ]
  },
  {
   "cell_type": "markdown",
   "id": "b3107632",
   "metadata": {},
   "source": [
    "You need to also calculate average followers : likes ratio for the obtained handles. Followers : Likes ratio is calculated as follows:\n",
    "1.Find out the likes of the top 10 posts of the 5 handles obtained earlier.\n",
    "2.Calculate the average likes for a handle.\n",
    "3.Divide the average likes obtained from the number of followers of the handle to get the average followers:like ratio of each handle.\n",
    "4.Create a bar graph to depict the above obtained information."
   ]
  },
  {
   "cell_type": "code",
   "execution_count": 71,
   "id": "a159e34a",
   "metadata": {},
   "outputs": [],
   "source": [
    "#This function returns list of likes of 10 post of a user\n",
    "def get_likes(user):\n",
    "    try :\n",
    "            likes = []\n",
    "            #This fuction will search a user and open that profile\n",
    "            search_open_profile(user)\n",
    "            time.sleep(2)\n",
    "            #just for scrolling\n",
    "            driver.execute_script('window.scrollTo(0, 3000);')\n",
    "            time.sleep(2)\n",
    "            driver.execute_script('window.scrollTo(0, -3000);')\n",
    "            time.sleep(2)\n",
    "            #locating the post of the user\n",
    "            posts = driver.find_elements(By.CLASS_NAME,'_aagw')\n",
    "            for post in posts[:10]:\n",
    "                post.click()\n",
    "                time.sleep(2)\n",
    "                try : \n",
    "                    #for getting like on video we need to first click on view then only we can like\n",
    "                    views = wait.until(EC.presence_of_element_located((By.CLASS_NAME,'_aauw')))\n",
    "                    views.click()\n",
    "                    time.sleep(1) \n",
    "                    #locating like and clicking on it\n",
    "                    like = driver.find_element(By.XPATH,'//*[@id=\"mount_0_0_xk\"]/div/div[1]/div/div[2]/div/div/div[1]/div/div[3]/div/div/div/div/div[2]/div/article/div/div[2]/div/div/div[2]/section[2]/div/div/div[4]/span')\n",
    "                    no_of_likes = (like.text).replace(',' , '')\n",
    "                    likes.append(int(no_of_likes))\n",
    "                    time.sleep(1)\n",
    "                    close1=driver.find_element(By.XPATH,'//*[@id=\"mount_0_0_xk\"]/div/div[1]/div/div[2]/div/div/div[1]/div/div[3]/div/div/div/div/div[2]/div/article/div/div[2]/div/div/div[2]/section[2]/div/div/div[1]')\n",
    "                    close1.click()\n",
    "                #if the post is image then this part will execute \n",
    "                except TimeoutException :\n",
    "                    like = driver.find_element(By.XPATH,'//*[@id=\"mount_0_0_xk\"]/div/div[1]/div/div[2]/div/div/div[1]/div/div[3]/div/div/div/div/div[2]/div/article/div/div[2]/div/div/div[2]/section[2]/div/div/div/a/div/span')\n",
    "                    no_of_likes = (like.text).replace(',' , '')\n",
    "                    likes.append(int(no_of_likes))\n",
    "                    time.sleep(1)\n",
    "                #locating close button and clicking on it\n",
    "                close=driver.find_element(By.XPATH,'//*[@id=\"mount_0_0_xk\"]/div/div[1]/div/div[2]/div/div/div[1]/div/div[2]/div')\n",
    "                time.sleep(1)\n",
    "                close.click()\n",
    "                                               \n",
    "            return likes\n",
    "    \n",
    "    except TimeoutException :\n",
    "        print (\"Something went wrong! Try Again\")"
   ]
  },
  {
   "cell_type": "code",
   "execution_count": 72,
   "id": "2f9134ba",
   "metadata": {},
   "outputs": [
    {
     "name": "stdout",
     "output_type": "stream",
     "text": [
      "Number of likes of the top 10 posts of foodie_incarnate :\n",
      "14360 Likes\n",
      "4704 Likes\n",
      "39458 Likes\n",
      "39928 Likes\n",
      "7084 Likes\n",
      "13553 Likes\n",
      "33727 Likes\n",
      "8237 Likes\n",
      "17166 Likes\n",
      "17516 Likes\n",
      "\n",
      "Number of likes of the top 10 posts of foodmybff :\n",
      "14360 Likes\n",
      "4704 Likes\n",
      "39458 Likes\n",
      "39928 Likes\n",
      "7084 Likes\n",
      "13553 Likes\n",
      "33727 Likes\n",
      "8237 Likes\n",
      "17166 Likes\n",
      "17516 Likes\n",
      "\n",
      "Number of likes of the top 10 posts of foodiewe :\n",
      "3130 Likes\n",
      "3180 Likes\n",
      "3097 Likes\n",
      "2474 Likes\n",
      "2300 Likes\n",
      "2478 Likes\n",
      "2602 Likes\n",
      "4401 Likes\n",
      "2204 Likes\n",
      "3473 Likes\n",
      "\n",
      "Number of likes of the top 10 posts of delhifoodwalks :\n",
      "7368 Likes\n",
      "8402 Likes\n",
      "4489 Likes\n",
      "9425 Likes\n",
      "5073 Likes\n",
      "9379 Likes\n",
      "14868 Likes\n",
      "8758 Likes\n",
      "8757 Likes\n",
      "10083 Likes\n",
      "\n",
      "Number of likes of the top 10 posts of yourfoodlab :\n",
      "15665 Likes\n",
      "10269 Likes\n",
      "41554 Likes\n",
      "27244 Likes\n",
      "16299 Likes\n",
      "38779 Likes\n",
      "4585 Likes\n",
      "8126 Likes\n",
      "18343 Likes\n",
      "17729 Likes\n",
      "\n"
     ]
    }
   ],
   "source": [
    "dct = {}\n",
    "for user in handles : \n",
    "    likes = get_likes(user)\n",
    "    dct[user] = likes\n",
    "    print('Number of likes of the top 10 posts of',user,':')\n",
    "    for i in likes :\n",
    "        print(i,'Likes')\n",
    "    print()"
   ]
  },
  {
   "cell_type": "code",
   "execution_count": 73,
   "id": "c8a9b6e4",
   "metadata": {},
   "outputs": [],
   "source": [
    "#This function will return a dictionary of {'username':average like}\n",
    "def get_avg_likes(d):\n",
    "    avg_likes = {}\n",
    "    for key,val in d.items():\n",
    "            avg = sum(val) // 10\n",
    "            avg_likes[key] = avg\n",
    "    return avg_likes"
   ]
  },
  {
   "cell_type": "code",
   "execution_count": 74,
   "id": "be351983",
   "metadata": {},
   "outputs": [
    {
     "name": "stdout",
     "output_type": "stream",
     "text": [
      "Average likes for each handle are :\n",
      "foodie_incarnate : 19573\n",
      "foodmybff : 19573\n",
      "foodiewe : 2933\n",
      "delhifoodwalks : 8660\n",
      "yourfoodlab : 19859\n"
     ]
    }
   ],
   "source": [
    "avg_likes = get_avg_likes(dct)\n",
    "\n",
    "print('Average likes for each handle are :')\n",
    "for user,likes in avg_likes.items():\n",
    "    print(user, ':', likes)"
   ]
  },
  {
   "cell_type": "code",
   "execution_count": 75,
   "id": "71007212",
   "metadata": {},
   "outputs": [],
   "source": [
    "def getavg_foll_like_ratio(top_handles,avg_like,users):\n",
    "    foll_like = {}\n",
    "    for i in range(5) :\n",
    "        foll_like[users[i]] = top_handles[users[i]]//avg_like[users[i]]\n",
    "    return foll_like"
   ]
  },
  {
   "cell_type": "code",
   "execution_count": 77,
   "id": "d5a04eb5",
   "metadata": {},
   "outputs": [
    {
     "name": "stdout",
     "output_type": "stream",
     "text": [
      "Average followers:like ratio of each handle :\n",
      "foodie_incarnate : 101\n",
      "foodmybff : 69\n",
      "foodiewe : 348\n",
      "delhifoodwalks : 35\n",
      "yourfoodlab : 8\n"
     ]
    }
   ],
   "source": [
    "\n",
    "#extracing username from top_handles\n",
    "top_handles_names = list(top_handles.keys())\n",
    "#now calling function getavg_foll_like_ratio(top_handles,avg_like,users) \n",
    "avg_fol_like_ratio = getavg_foll_like_ratio(top_handles, avg_likes, top_handles_names)\n",
    "print('Average followers:like ratio of each handle :')\n",
    "for user,ratio in avg_fol_like_ratio.items():\n",
    "    print(user, ':', ratio)"
   ]
  },
  {
   "cell_type": "code",
   "execution_count": 79,
   "id": "4c81c8b7",
   "metadata": {},
   "outputs": [
    {
     "data": {
      "image/png": "[encoded data removed]",
      "text/plain": [
       "<Figure size 432x288 with 1 Axes>"
      ]
     },
     "metadata": {
      "needs_background": "light"
     },
     "output_type": "display_data"
    }
   ],
   "source": [
    "#for this I will use answer of problem 3.2 \n",
    "username = list(avg_likes.keys())\n",
    "avg_like = list(avg_likes.values())\n",
    "\n",
    "plt.bar(username,avg_like,color='b',alpha=0.6)\n",
    "plt.xticks(rotation=30)\n",
    "plt.ylabel(\"Average Likes\",size=15)\n",
    "plt.xlabel(\"Handle's Name\",size=15)\n",
    "plt.title('Average like for each handle ',fontsize=20, color='green',alpha=0.8)\n",
    "plt.grid()\n",
    "plt.show()"
   ]
  },
  {
   "cell_type": "code",
   "execution_count": 81,
   "id": "8e30fe9b",
   "metadata": {},
   "outputs": [
    {
     "data": {
      "image/png": "[encoded data removed]",
      "text/plain": [
       "<Figure size 432x288 with 1 Axes>"
      ]
     },
     "metadata": {
      "needs_background": "light"
     },
     "output_type": "display_data"
    }
   ],
   "source": [
    "#For this I will use answer of problem 3.3\n",
    "username = list(avg_fol_like_ratio.keys())\n",
    "avg_like = list(avg_fol_like_ratio.values())\n",
    "\n",
    "plt.bar(username,avg_like,color='Indigo',alpha=0.6)\n",
    "plt.xticks(rotation=30)\n",
    "plt.ylabel(\"Average Followers:Like Ratio\",size=12)\n",
    "plt.xlabel(\"Handle's Name\",size=12)\n",
    "plt.title('Average Followers:Like Ratio of Each Handle ',fontsize=20, color='Indigo',alpha=0.8)\n",
    "plt.grid()\n",
    "plt.show()"
   ]
  },
  {
   "cell_type": "code",
   "execution_count": null,
   "id": "3197fc4f",
   "metadata": {},
   "outputs": [],
   "source": []
  }
 ],
 "metadata": {
  "kernelspec": {
   "display_name": "Python 3",
   "language": "python",
   "name": "python3"
  },
  "language_info": {
   "codemirror_mode": {
    "name": "ipython",
    "version": 3
   },
   "file_extension": ".py",
   "mimetype": "text/x-python",
   "name": "python",
   "nbconvert_exporter": "python",
   "pygments_lexer": "ipython3",
   "version": "3.8.8"
  }
 },
 "nbformat": 4,
 "nbformat_minor": 5
}
