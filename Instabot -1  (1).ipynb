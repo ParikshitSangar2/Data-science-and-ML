{
 "cells": [
  {
   "cell_type": "markdown",
   "id": "5c8f5a00",
   "metadata": {},
   "source": [
    "# Your friend has opened a new Food Blogging handle on Instagram and wants to get famous. He wants to follow a lot of people so that he can get noticed quickly but it is a tedious task so he asks you to help him. As you have just learned automation using Selenium, you decided to help him by creating an Instagram Bot. You need to create different functions for each task."
   ]
  },
  {
   "cell_type": "code",
   "execution_count": 192,
   "id": "d84a3489",
   "metadata": {},
   "outputs": [],
   "source": [
    "from selenium import webdriver\n",
    "from selenium.webdriver.support import expected_conditions as EC\n",
    "from selenium.webdriver.support.ui import WebDriverWait\n",
    "from selenium.webdriver.common.by import By\n",
    "from selenium.common.exceptions import TimeoutException\n",
    "from bs4 import BeautifulSoup\n",
    "import time"
   ]
  },
  {
   "cell_type": "code",
   "execution_count": 193,
   "id": "1fee6aef",
   "metadata": {},
   "outputs": [
    {
     "name": "stdout",
     "output_type": "stream",
     "text": [
      "\n"
     ]
    },
    {
     "name": "stderr",
     "output_type": "stream",
     "text": [
      "[WDM] - ====== WebDriver manager ======\n",
      "[WDM] - Current google-chrome version is 103.0.5060\n",
      "[WDM] - Get LATEST chromedriver version for 103.0.5060 google-chrome\n",
      "[WDM] - Driver [C:\\Users\\parik\\.wdm\\drivers\\chromedriver\\win32\\103.0.5060.53\\chromedriver.exe] found in cache\n"
     ]
    }
   ],
   "source": [
    "from selenium import webdriver\n",
    "from webdriver_manager.chrome import ChromeDriverManager\n",
    "from selenium.webdriver.chrome.service import Service\n",
    "s=Service(ChromeDriverManager().install())\n",
    "driver = webdriver.Chrome(service=s)"
   ]
  },
  {
   "cell_type": "code",
   "execution_count": 194,
   "id": "a5e07142",
   "metadata": {},
   "outputs": [],
   "source": [
    "driver.get('https://www.instagram.com/')"
   ]
  },
  {
   "cell_type": "code",
   "execution_count": 53,
   "id": "6363843b",
   "metadata": {},
   "outputs": [],
   "source": [
    "# username and password here\n",
    "#username = 'SAMPLE USERNAME\n",
    "#password = 'SAMPLE PASSWORD' : "
   ]
  },
  {
   "cell_type": "code",
   "execution_count": 204,
   "id": "8e30af35",
   "metadata": {},
   "outputs": [],
   "source": [
    "wait = WebDriverWait(driver, 6)"
   ]
  },
  {
   "cell_type": "markdown",
   "id": "cfd4137f",
   "metadata": {},
   "source": [
    "#  Problem -1"
   ]
  },
  {
   "cell_type": "code",
   "execution_count": 196,
   "id": "7b9b1e0f",
   "metadata": {},
   "outputs": [],
   "source": [
    "def LogIn():\n",
    "    try :\n",
    "        #locating username textbox and sending username\n",
    "        user_name = wait.until(EC.presence_of_element_located((By.NAME,'username')))\n",
    "        user_name.send_keys('username')\n",
    "        #locating password box and sending password\n",
    "        pwd = wait.until(EC.presence_of_element_located((By.NAME,'password')))\n",
    "        pwd.send_keys('password')\n",
    "        #locating login button \n",
    "        button = wait.until(EC.presence_of_element_located((By.XPATH,'//*[@id=\"loginForm\"]/div[1]/div[3]/button/div')))\n",
    "        button.submit()\n",
    "        #Save Your Login Info? : Not Now\n",
    "        pop = wait.until(EC.presence_of_element_located((By.XPATH,'//*[@id=\"react-root\"]/section/main/div/div/div/div/button')))\n",
    "        pop.click()\n",
    "        \n",
    "    except TimeoutException :\n",
    "        print (\"Something went wrong! Try Again\")"
   ]
  },
  {
   "cell_type": "code",
   "execution_count": 197,
   "id": "6b117cc0",
   "metadata": {},
   "outputs": [],
   "source": [
    "LogIn()"
   ]
  },
  {
   "cell_type": "code",
   "execution_count": 8,
   "id": "5aebb4b9",
   "metadata": {},
   "outputs": [],
   "source": [
    "## FOR TURN ON NOTIFICATIONS POP-UP\n",
    "r=driver.find_element(By.XPATH,'//*[@id=\"mount_0_0_+z\"]/div/div[1]/div/div[2]/div/div/div[1]/div/div[2]/div/div/div/div/div/div/div/div[3]/button[2]')\n",
    "r.click()"
   ]
  },
  {
   "cell_type": "markdown",
   "id": "30d9a192",
   "metadata": {},
   "source": [
    "# Problem -2"
   ]
  },
  {
   "cell_type": "code",
   "execution_count": 169,
   "id": "41c75d63",
   "metadata": {},
   "outputs": [],
   "source": [
    "search_box = wait.until(EC.presence_of_element_located((By.CLASS_NAME,'_aaw8')))\n",
    "search_box.click()                                                  \n",
    "#CLICKS SEARCH BOX"
   ]
  },
  {
   "cell_type": "code",
   "execution_count": 172,
   "id": "848684b6",
   "metadata": {},
   "outputs": [],
   "source": [
    "type_box = wait.until(EC.presence_of_element_located((By.XPATH,'//*[@id=\"mount_0_0_FV\"]/div/div[1]/div/div[1]/div/div/div[1]/div[1]/section/nav/div[2]/div/div/div[2]/input')))\n",
    "type_box.send_keys('food')\n",
    "#TYPES "
   ]
  },
  {
   "cell_type": "code",
   "execution_count": 176,
   "id": "1bae2701",
   "metadata": {},
   "outputs": [
    {
     "data": {
      "text/plain": [
       "<selenium.webdriver.remote.webelement.WebElement (session=\"f32bf8585b697da07c8979189eda792b\", element=\"e5c7eaf9-266a-42ed-b762-806f78298efc\")>"
      ]
     },
     "execution_count": 176,
     "metadata": {},
     "output_type": "execute_result"
    }
   ],
   "source": [
    "#waiting till all searched is located\n",
    "wait.until(EC.presence_of_element_located((By.XPATH,'//div[@class=\"_aacl _aaco _aacw _aacx _aad6\"]')))\n",
    "#WAIT UNTIL ELEMENTS LOAD"
   ]
  },
  {
   "cell_type": "code",
   "execution_count": 177,
   "id": "1b8e828c",
   "metadata": {},
   "outputs": [
    {
     "name": "stdout",
     "output_type": "stream",
     "text": [
      "Getting Started\n",
      "foodie_incarnate\n",
      "foodmybff\n",
      "foodporn\n",
      "albaik\n",
      "foodiemom_jyoti\n",
      "foodieshamsi\n",
      "food\n",
      "streetfoodrecipe\n",
      "delhifoodwalks\n",
      "foodcorps\n",
      "foodhunter_sabu\n",
      "foodie_malabariii\n",
      "foodgod\n",
      "foodnetworkmag\n",
      "kl.foodie\n",
      "foodnetworkkitchen\n",
      "foodfusionpk\n",
      "gofoodindonesia\n",
      "foodinsider\n",
      "foodbible\n",
      "maneet_16\n",
      "fooddotcom\n",
      "yourfoodlab\n",
      "food.darzee\n",
      "healthyfood.addiction\n",
      "sana\n",
      "austinfoodmagazine\n",
      "prowlfood\n",
      "portugal.explores\n",
      "foodizz.id\n",
      "eatingwithblim\n",
      "forkin_food\n",
      "delectable__crunch\n",
      "thefoodbabe\n",
      "foodsbible\n",
      "foood__explorer\n",
      "sibungbung\n",
      "meghnasfoodmagic\n",
      "foodieeeee\n",
      "japan.explores\n",
      "healthyfood.facts\n",
      "love_food\n",
      "maldives.explores\n",
      "switzerland.explores\n",
      "escapetolandscapes\n",
      "newyorkcity.explore\n",
      "fao\n",
      "boltfood_mt\n",
      "miniature_food_farm\n",
      "delicioushealthyvideos\n"
     ]
    }
   ],
   "source": [
    "for i in driver.find_elements(By.XPATH,'//div[@class=\"_aacl _aaco _aacw _aacx _aad6\"]'):\n",
    "    x=i.get_attribute('innerHTML')\n",
    "    if x[0] !='#':\n",
    "        print(x)      \n",
    "#PRINTS ALL THE HANDLES EXCEPT THOSE STARTING WITH HASH"
   ]
  },
  {
   "cell_type": "code",
   "execution_count": 178,
   "id": "b77e4e00",
   "metadata": {},
   "outputs": [],
   "source": [
    "#Clearing output\n",
    "driver.find_element(By.XPATH,'//*[@id=\"mount_0_0_FV\"]/div/div[1]/div/div[1]/div/div/div[1]/div[1]/section/nav/div[2]/div/div/div[2]/div[2]').click()"
   ]
  },
  {
   "cell_type": "markdown",
   "id": "0f57bec2",
   "metadata": {},
   "source": [
    "# Problem 3\n"
   ]
  },
  {
   "cell_type": "code",
   "execution_count": 70,
   "id": "ace5e02c",
   "metadata": {},
   "outputs": [],
   "source": [
    "search_box = wait.until(EC.presence_of_element_located((By.CLASS_NAME,'_aaw8')))\n",
    "search_box.click()                                                  \n",
    "#CLICKS SEARCH BOX\n"
   ]
  },
  {
   "cell_type": "code",
   "execution_count": 73,
   "id": "ac28f3cb",
   "metadata": {},
   "outputs": [],
   "source": [
    "type_box = wait.until(EC.presence_of_element_located((By.XPATH,'//*[@id=\"mount_0_0_dh\"]/div/div[1]/div/div[1]/div/div/div[1]/div[1]/section/nav/div[2]/div/div/div[2]/input')))\n",
    "type_box.send_keys('So Delhi')"
   ]
  },
  {
   "cell_type": "code",
   "execution_count": 77,
   "id": "201f8049",
   "metadata": {},
   "outputs": [],
   "source": [
    "res = wait.until(EC.presence_of_element_located((By.XPATH,'//*[@id=\"f236908ec79272\"]/div/div/div')))\n",
    "res.click()     "
   ]
  },
  {
   "cell_type": "markdown",
   "id": "1f717721",
   "metadata": {},
   "source": [
    "# Problem 4"
   ]
  },
  {
   "cell_type": "code",
   "execution_count": 48,
   "id": "58233d18",
   "metadata": {},
   "outputs": [],
   "source": [
    "## Following\n",
    "def follow():\n",
    "    try :\n",
    "        #locating follow button\n",
    "        f=wait.until(EC.presence_of_element_located((By.XPATH,'//*[@id=\"mount_0_0_eT\"]/div/div[1]/div/div[1]/div/div/div[1]/div[1]/section/main/div/header/section/div[2]/div/div[2]/div/span/span[1]/button/div')))\n",
    "        #checking for text\n",
    "        if f.get_attribute('innerHTML') == 'Follow' : \n",
    "            follow_c=wait.until(EC.presence_of_element_located((By.XPATH,'//*[@id=\"mount_0_0_eT\"]/div/div[1]/div/div[1]/div/div/div[1]/div[1]/section/main/div/header/section/div[2]/div/div[2]/div/span/span[1]/button')))\n",
    "            follow_c.click()\n",
    "            time.sleep(3)\n",
    "        \n",
    "        else : \n",
    "            print('Already Following')\n",
    "\n",
    "    except TimeoutException :\n",
    "        print(\"Something Went Wrong!\")"
   ]
  },
  {
   "cell_type": "code",
   "execution_count": 49,
   "id": "2927370c",
   "metadata": {},
   "outputs": [],
   "source": [
    "follow()"
   ]
  },
  {
   "cell_type": "code",
   "execution_count": 53,
   "id": "c2d53950",
   "metadata": {},
   "outputs": [],
   "source": [
    "## Unfollowing\n",
    "def unfollow():\n",
    "    try :\n",
    "        #locating follow button\n",
    "        btn = wait.until(EC.presence_of_element_located((By.XPATH,'//*[@id=\"mount_0_0_Q1\"]/div/div[1]/div/div[1]/div/div/div[1]/div[1]/section/main/div/header/section/div[2]/div/div[2]/div/span/span[1]/button')))\n",
    "        #checking for text\n",
    "        if btn.is_enabled() : \n",
    "            btn.click()\n",
    "            time.sleep(2)\n",
    "            #locating popup window (when you click on follow button)\n",
    "            pop_up = wait.until(EC.presence_of_element_located((By.XPATH,'//*[@id=\"mount_0_0_Q1\"]/div/div[1]/div/div[2]/div/div/div[1]/div/div[2]/div/div/div/div/div/div/div/div[3]/button[1]')))\n",
    "            pop_up.click()\n",
    "            time.sleep(3)\n",
    "            \n",
    "        else : \n",
    "            print('Already Unfollowed')\n",
    "\n",
    "    except TimeoutException :\n",
    "        print(\"Something Went Wrong!\")"
   ]
  },
  {
   "cell_type": "code",
   "execution_count": 54,
   "id": "d5bfd485",
   "metadata": {},
   "outputs": [],
   "source": [
    "unfollow()"
   ]
  },
  {
   "cell_type": "code",
   "execution_count": 79,
   "id": "cbe55632",
   "metadata": {},
   "outputs": [],
   "source": [
    "driver.back()\n",
    "## GOES BACK"
   ]
  },
  {
   "cell_type": "markdown",
   "id": "be70a378",
   "metadata": {},
   "source": [
    "# Problem 5"
   ]
  },
  {
   "cell_type": "code",
   "execution_count": 82,
   "id": "7eaccddf",
   "metadata": {},
   "outputs": [],
   "source": [
    "search_box = wait.until(EC.presence_of_element_located((By.XPATH,'//*[@id=\"mount_0_0_dh\"]/div/div[1]/div/div[1]/div/div/div[1]/div[1]/section/nav/div[2]/div/div/div[2]/div[1]')))\n",
    "search_box.click() \n",
    "## SELECTS SEARCHBOX"
   ]
  },
  {
   "cell_type": "code",
   "execution_count": 84,
   "id": "46d3d8f4",
   "metadata": {},
   "outputs": [],
   "source": [
    "type_box = wait.until(EC.presence_of_element_located((By.XPATH,'//*[@id=\"mount_0_0_dh\"]/div/div[1]/div/div[1]/div/div/div[1]/div[1]/section/nav/div[2]/div/div/div[2]/input')))\n",
    "type_box.clear()\n",
    "## CLEARS TEXTBOX"
   ]
  },
  {
   "cell_type": "code",
   "execution_count": 85,
   "id": "60bbde66",
   "metadata": {},
   "outputs": [],
   "source": [
    "type_box.send_keys('dilsefoodie')\n",
    "## INPUTS CHANNEL NAME"
   ]
  },
  {
   "cell_type": "code",
   "execution_count": 86,
   "id": "47c4436e",
   "metadata": {},
   "outputs": [],
   "source": [
    "res = wait.until(EC.presence_of_element_located((By.XPATH,'/html/body/div[1]/div/div[1]/div/div[1]/div/div/div[1]/div[1]/section/nav/div[2]/div/div/div[2]/div[3]/div/div[2]/div/div[1]/a/div/div[2]/div[1]/div/div/div[1]')))\n",
    "res.click()     \n",
    "## GOES TO THE CHANNEL"
   ]
  },
  {
   "cell_type": "code",
   "execution_count": 94,
   "id": "71b57e28",
   "metadata": {},
   "outputs": [],
   "source": [
    "##posts = driver.find_elements(By.XPATH,'//a[@class=\"oajrlxb2 g5ia77u1 qu0x051f esr5mh6w e9989ue4 r7d6kgcz rq0escxv nhd2j8a9 nc684nl6 p7hjln8o kvgmc6g5 cxmmr5t8 oygrvhab hcukyx3x jb3vyjys rz4wbd8a qt6c0cv9 a8nywdso i1ao9s8h esuyzwwr f1sip0of lzcic4wl _a6hd\"]')"
   ]
  },
  {
   "cell_type": "code",
   "execution_count": 59,
   "id": "6b6b526b",
   "metadata": {},
   "outputs": [],
   "source": [
    "def Like_Post():\n",
    "    try :\n",
    "        #scrolling for locating post\n",
    "        driver.execute_script('window.scrollTo(0, 6000);')\n",
    "        time.sleep(2)\n",
    "        driver.execute_script('window.scrollTo(0, -6000);')\n",
    "        time.sleep(2)\n",
    "        #locating post\n",
    "        posts = driver.find_elements(By.XPATH,'//a[@class=\"oajrlxb2 g5ia77u1 qu0x051f esr5mh6w e9989ue4 r7d6kgcz rq0escxv nhd2j8a9 nc684nl6 p7hjln8o kvgmc6g5 cxmmr5t8 oygrvhab hcukyx3x jb3vyjys rz4wbd8a qt6c0cv9 a8nywdso i1ao9s8h esuyzwwr f1sip0of lzcic4wl _a6hd\"]')\n",
    "        \n",
    "        for i in range(2,32):\n",
    "            posts[i].click()\n",
    "            time.sleep(2)\n",
    "            #locating like/unke button\n",
    "            like1 = wait.until(EC.presence_of_element_located((By.XPATH,'//section[@class=\"_aamu _aat0\"]/span/button')))\n",
    "            st = BeautifulSoup(like1.get_attribute('innerHTML'),\"html.parser\").svg['aria-label']\n",
    "            \n",
    "        \n",
    "            if st=='Like':\n",
    "                like1.click()\n",
    "                time.sleep(1)\n",
    "            else :\n",
    "                print('You have already LIKED Post Number :', i+1)\n",
    "                time.sleep(1)\n",
    "            #locating cross button for closing post\n",
    "            driver.back()\n",
    "            time.sleep(1)\n",
    "            \n",
    "    except TimeoutException :\n",
    "        print(\"Something Went Wrong!\")"
   ]
  },
  {
   "cell_type": "code",
   "execution_count": 60,
   "id": "fbe00824",
   "metadata": {},
   "outputs": [
    {
     "name": "stdout",
     "output_type": "stream",
     "text": [
      "You have already LIKED Post Number : 3\n",
      "You have already LIKED Post Number : 4\n",
      "Something Went Wrong!\n"
     ]
    }
   ],
   "source": [
    "Like_Post()"
   ]
  },
  {
   "cell_type": "code",
   "execution_count": 61,
   "id": "4d6195d6",
   "metadata": {},
   "outputs": [],
   "source": [
    "## CODE WORKS BUT IT IS DEVICE SPECIFIC, IN SOME DEVICES CHROME CRASHES AFTER 16 -17TH POST\n",
    "## If there is anything I can change please advice as chrome is consuming like 500 mb while running\n",
    "\n"
   ]
  },
  {
   "cell_type": "code",
   "execution_count": 11,
   "id": "7cb94121",
   "metadata": {},
   "outputs": [],
   "source": [
    "def Unlike_Post():\n",
    "    try :\n",
    "        #scrolling for locating post\n",
    "        driver.execute_script('window.scrollTo(0, 6000);')\n",
    "        time.sleep(3)\n",
    "        driver.execute_script('window.scrollTo(0, -6000);')\n",
    "        time.sleep(3)\n",
    "        #locating post\n",
    "        posts = driver.find_elements(By.XPATH,'//a[@class=\"oajrlxb2 g5ia77u1 qu0x051f esr5mh6w e9989ue4 r7d6kgcz rq0escxv nhd2j8a9 nc684nl6 p7hjln8o kvgmc6g5 cxmmr5t8 oygrvhab hcukyx3x jb3vyjys rz4wbd8a qt6c0cv9 a8nywdso i1ao9s8h esuyzwwr f1sip0of lzcic4wl _a6hd\"]')\n",
    "     \n",
    "        for i in range(2,32):\n",
    "            posts[i].click()\n",
    "            time.sleep(2)\n",
    "            #locating like/unke button\n",
    "            like1 = wait.until(EC.presence_of_element_located((By.XPATH,'//section[@class=\"_aamu _aat0\"]/span/button')))\n",
    "            st = BeautifulSoup(like1.get_attribute('innerHTML'),\"html.parser\").svg['aria-label']\n",
    "        \n",
    "            if st == 'Unlike' :\n",
    "                like1.click()\n",
    "                time.sleep(1)\n",
    "            else :\n",
    "                print('You have already UNLIKED Post Number', i-1)\n",
    "                time.sleep(1)\n",
    "            #locating cross button for closing post\n",
    "            driver.back()\n",
    "            time.sleep(2)\n",
    "            \n",
    "    except TimeoutException :\n",
    "        print(\"Something Went Wrong!\")"
   ]
  },
  {
   "cell_type": "code",
   "execution_count": 12,
   "id": "67d9b3ba",
   "metadata": {},
   "outputs": [
    {
     "name": "stdout",
     "output_type": "stream",
     "text": [
      "You have already UNLIKED Post Number 1\n",
      "You have already UNLIKED Post Number 2\n",
      "You have already UNLIKED Post Number 3\n",
      "You have already UNLIKED Post Number 4\n",
      "You have already UNLIKED Post Number 5\n",
      "You have already UNLIKED Post Number 6\n",
      "You have already UNLIKED Post Number 7\n",
      "You have already UNLIKED Post Number 8\n",
      "You have already UNLIKED Post Number 9\n",
      "You have already UNLIKED Post Number 10\n",
      "You have already UNLIKED Post Number 11\n",
      "You have already UNLIKED Post Number 12\n",
      "You have already UNLIKED Post Number 13\n",
      "You have already UNLIKED Post Number 14\n",
      "You have already UNLIKED Post Number 15\n",
      "You have already UNLIKED Post Number 16\n",
      "You have already UNLIKED Post Number 17\n",
      "You have already UNLIKED Post Number 18\n",
      "You have already UNLIKED Post Number 19\n",
      "You have already UNLIKED Post Number 20\n",
      "You have already UNLIKED Post Number 21\n",
      "You have already UNLIKED Post Number 22\n",
      "You have already UNLIKED Post Number 23\n",
      "You have already UNLIKED Post Number 24\n",
      "You have already UNLIKED Post Number 25\n",
      "You have already UNLIKED Post Number 26\n",
      "You have already UNLIKED Post Number 27\n",
      "You have already UNLIKED Post Number 28\n",
      "You have already UNLIKED Post Number 29\n",
      "You have already UNLIKED Post Number 30\n"
     ]
    }
   ],
   "source": [
    "Unlike_Post()"
   ]
  },
  {
   "cell_type": "markdown",
   "id": "5dab1fc4",
   "metadata": {},
   "source": [
    "# Problem 6"
   ]
  },
  {
   "cell_type": "code",
   "execution_count": 12,
   "id": "98283ee0",
   "metadata": {},
   "outputs": [],
   "source": [
    "driver.back()"
   ]
  },
  {
   "cell_type": "code",
   "execution_count": 13,
   "id": "60c34650",
   "metadata": {},
   "outputs": [],
   "source": [
    "search_box = wait.until(EC.presence_of_element_located((By.CLASS_NAME,'_aaw8')))\n",
    "search_box.click() \n"
   ]
  },
  {
   "cell_type": "code",
   "execution_count": 15,
   "id": "1f83d163",
   "metadata": {},
   "outputs": [],
   "source": [
    "type_box = wait.until(EC.presence_of_element_located((By.XPATH,'//*[@id=\"mount_0_0_+z\"]/div/div[1]/div/div[1]/div/div/div/div[1]/div[1]/section/nav/div[2]/div/div/div[2]/input')))\n",
    "type_box.clear()"
   ]
  },
  {
   "cell_type": "code",
   "execution_count": 16,
   "id": "ccd40326",
   "metadata": {},
   "outputs": [],
   "source": [
    "type_box.send_keys('foodtalkindia')"
   ]
  },
  {
   "cell_type": "code",
   "execution_count": 17,
   "id": "40adf2d7",
   "metadata": {},
   "outputs": [],
   "source": [
    "res = wait.until(EC.presence_of_element_located((By.XPATH,'//*[@id=\"f29c178c5bc3774\"]/div/div/div[1]')))\n",
    "res.click()     "
   ]
  },
  {
   "cell_type": "code",
   "execution_count": 62,
   "id": "ce0c3d97",
   "metadata": {},
   "outputs": [],
   "source": [
    "def Extract_Followers():\n",
    "    try :\n",
    "        # locating followers button and click on it\n",
    "        followers_btn = wait.until(EC.presence_of_element_located((By.XPATH,'//*[@id=\"mount_0_0_+z\"]/div/div[1]/div/div[1]/div/div/div/div[1]/div[1]/section/main/div/header/section/ul/li[2]/a/div')))\n",
    "        followers_btn.click()\n",
    "        #locating followers list\n",
    "        frame = driver.find_element(By.XPATH,'/div[@class=\"_ab8w  _ab94 _ab99 _ab9f _ab9m _ab9o\"]/div/div')\n",
    "        #scrolling untill first 500 user is located\n",
    "        for i in range(5):\n",
    "            time.sleep(3)\n",
    "            driver.execute_script(\"arguments[0].scrollTop=arguments[0].scrollHeight\",frame)\n",
    "        \n",
    "        names = []\n",
    "        #extracting userdata\n",
    "        followers = driver.find_elements(By.XPATH,'//span[@class=\"_aacl _aaco _aacw _aacx _aad7 _aade\"]')\n",
    "        #extracting username\n",
    "        for i in followers[:500] :\n",
    "                names.append(i.text.split('\\n')[0])\n",
    "            \n",
    "        return names\n",
    "    except TimeoutException :\n",
    "        print(\"Something Went Wrong!\")"
   ]
  },
  {
   "cell_type": "code",
   "execution_count": 50,
   "id": "7aebe94a",
   "metadata": {},
   "outputs": [
    {
     "name": "stdout",
     "output_type": "stream",
     "text": [
      "['saurabbhmehta', 'kumariharshitaofficial', 'coffeetoffee2022', 'zoopivieee', 'saesha_bakes', 'ioxaxe', 'taras2230_', 'viral.vasani2801', 'priyaofficial_06', 'jaygowda_', 'ski_high_restaurant', 'priyasfoodiekitchen', 'sheetuagr', 'banjaaaraa_', 'manshavirk', 'avomexicano.in', 'omkaxr_', 'mr.sumitmd', 'usablueberries.india', 'motivational_anime0', 'you.r_my_dream_catcher', 'surajsharma1022', 'eightytwenty.burgers', 'ritika_yarav_1332', 'kundu_paban', 'aamanbagga', 'sigmarambler6', 'dhruvj560', 'sukruthasreeharsha', 'jatin_urf_valmiki', 'thelazy.procrastinator', 'puffffworld', 'one_cherished_click31', 'barjatyaartandculturetrust', 'sagir6270', 'prateekpthak', 'mohammedshoeb13', 'zohavaseemqureshi', 'kaash._.27', 'herbs_spices_', 'farhazakir4', 'vaishnavigupta6126', 'aartieez', 'yooggs', 'instawithsriks', 'sherulporwal', 'delhitoastmasters', 'thefoodieefellas', 'itarunvij', 'phkfrost', 'jyoti.jain_prahalad', 'ra_atticus', 'nimishtaneja', 'puja_nk5', 'sawant________sahu', 'sahilh1982', 'nkrishna6', 'bhavanaagrawal87', 'madhubalag453', 'mihir_slnki', 'garach.neha', 'bajajnaini', 'h_a_rr_ss_hh', 'pra_kharpandey', 'eatwithbarsha', 'sathvik.114', 'sabrinasingh01', 'iam.sahilarora', 'alvina_0709', 'chinky.chawla', 'alfa_sandeep_kumar', 'ind.kong', 'shukla3011', 'interncook', 'juheeg', 'amangarg646', '_highonchai_', 'megha001', 'prakashsawant86', 'kabirkohli007', 'the_first_bite55', 'theoutlierpr', 'swastika_22_', 'kunal3991']\n"
     ]
    }
   ],
   "source": [
    "followers=Extract_Followers()\n",
    "print(followers)\n"
   ]
  },
  {
   "cell_type": "code",
   "execution_count": 51,
   "id": "e6c38983",
   "metadata": {},
   "outputs": [],
   "source": [
    "driver.back()"
   ]
  },
  {
   "cell_type": "code",
   "execution_count": 53,
   "id": "95262dd8",
   "metadata": {},
   "outputs": [],
   "source": [
    "search_box = wait.until(EC.presence_of_element_located((By.CLASS_NAME,'_aaw8')))\n",
    "search_box.click() "
   ]
  },
  {
   "cell_type": "code",
   "execution_count": 55,
   "id": "6ceab3a7",
   "metadata": {},
   "outputs": [],
   "source": [
    "type_box = wait.until(EC.presence_of_element_located((By.XPATH,'//*[@id=\"mount_0_0_+z\"]/div/div[1]/div/div[1]/div/div/div/div[1]/div[1]/section/nav/div[2]/div/div/div[2]/input')))\n",
    "type_box.clear()"
   ]
  },
  {
   "cell_type": "code",
   "execution_count": 56,
   "id": "7a532726",
   "metadata": {},
   "outputs": [],
   "source": [
    "type_box.send_keys('Sodelhi')"
   ]
  },
  {
   "cell_type": "code",
   "execution_count": 57,
   "id": "c1a27f30",
   "metadata": {},
   "outputs": [],
   "source": [
    "res = wait.until(EC.presence_of_element_located((By.XPATH,'//*[@id=\"f425715416833\"]/div/div/div')))\n",
    "res.click()     "
   ]
  },
  {
   "cell_type": "code",
   "execution_count": 65,
   "id": "ee7d7ec2",
   "metadata": {},
   "outputs": [],
   "source": [
    "def Extract_Followers_1():\n",
    "    try :\n",
    "        # locating followers button and click on it\n",
    "        followers_btn = wait.until(EC.presence_of_element_located((By.XPATH,'//*[@id=\"mount_0_0_+z\"]/div/div[1]/div/div[1]/div/div/div/div[1]/div[1]/section/main/div/header/section/ul/li[2]/a/div')))\n",
    "        followers_btn.click()\n",
    "        #locating followers list\n",
    "        frame = driver.find_element(By.XPATH,'//*[@id=\"mount_0_0_+z\"]/div/div[1]/div/div[2]/div/div/div[1]/div/div[2]/div/div/div/div/div/div/div/div[2]')\n",
    "        #scrolling untill first 500 user is located\n",
    "        for i in range(5):\n",
    "            time.sleep(3)\n",
    "            driver.execute_script(\"arguments[0].scrollTop=arguments[0].scrollHeight\",frame)\n",
    "        \n",
    "        names = []\n",
    "        #extracting userdata\n",
    "        followers = driver.find_elements(By.XPATH,'//span[@class=\"_aacl _aaco _aacw _aacx _aad7 _aade\"]')\n",
    "        #extracting username\n",
    "        for i in followers[:500] :\n",
    "                names.append(i.text.split('\\n')[0])\n",
    "            \n",
    "        return names\n",
    "    except TimeoutException :\n",
    "        print(\"Something Went Wrong!\")"
   ]
  },
  {
   "cell_type": "code",
   "execution_count": 66,
   "id": "28fcd2af",
   "metadata": {},
   "outputs": [
    {
     "name": "stdout",
     "output_type": "stream",
     "text": [
      "['anuprava.d_', 'baidwan1481', 'anudevanshi', 'pushkarpandey07', 'townytutors', 'simisk', 'notreallyhereforyou', 'hanshitabajaj', 'sachdeva.neha', 'monikalamba71', 'pragya7770', 'joonie___kim', 'rajatgoyal1994', 'chiraggsharma', 'ankit_rathore_27', 'preachaaaa', 'tsridharmi', 'gauravanand.in', 'rohitrawat1998', 'ramr.ajgurjar05', '_ric_ky____', 'syed_amir_haider9565', 'prithvi_vallab', 'ankujgupta93', 'beliked3v', '_nk0107', 'katiehawt', 'languyett', 'itsaditi2803', 'konan_oliveira_12', '_sachinshakarwal', 'whats_in_a_nameeee', 'storm_of_kindness', 'vidhitheexplorer', 'daaaaa00009', 'simpvt_0']\n"
     ]
    }
   ],
   "source": [
    "followers1= Extract_Followers_1()\n",
    "print(followers1)"
   ]
  },
  {
   "cell_type": "code",
   "execution_count": 75,
   "id": "3c4197de",
   "metadata": {},
   "outputs": [],
   "source": [
    "followers_of_foodind = set(followers)"
   ]
  },
  {
   "cell_type": "code",
   "execution_count": null,
   "id": "febc3874",
   "metadata": {},
   "outputs": [],
   "source": [
    "driver.back()"
   ]
  },
  {
   "cell_type": "code",
   "execution_count": 76,
   "id": "db0f32e1",
   "metadata": {},
   "outputs": [],
   "source": [
    "search_box = wait.until(EC.presence_of_element_located((By.CLASS_NAME,'_aaw8')))\n",
    "search_box.click() "
   ]
  },
  {
   "cell_type": "code",
   "execution_count": 77,
   "id": "4cff919e",
   "metadata": {},
   "outputs": [],
   "source": [
    "type_box = wait.until(EC.presence_of_element_located((By.XPATH,'//*[@id=\"mount_0_0_+z\"]/div/div[1]/div/div[1]/div/div/div/div[1]/div[1]/section/nav/div[2]/div/div/div[2]/input')))\n",
    "type_box.clear()"
   ]
  },
  {
   "cell_type": "code",
   "execution_count": 78,
   "id": "4978debb",
   "metadata": {},
   "outputs": [],
   "source": [
    "type_box.send_keys('parikshit_6')"
   ]
  },
  {
   "cell_type": "code",
   "execution_count": 79,
   "id": "86403e50",
   "metadata": {},
   "outputs": [],
   "source": [
    "res = wait.until(EC.presence_of_element_located((By.XPATH,'//*[@id=\"f8c4c4b9cb3b28\"]/div/div/div')))\n",
    "res.click()    "
   ]
  },
  {
   "cell_type": "code",
   "execution_count": 130,
   "id": "7a0bfdc8",
   "metadata": {},
   "outputs": [],
   "source": [
    "def Following():\n",
    "    try :\n",
    "        # locating following button and click on it\n",
    "        followers_btn = wait.until(EC.presence_of_element_located((By.XPATH,'//*[@id=\"mount_0_0_qt\"]/div/div[1]/div/div[1]/div/div/div/div[1]/div[1]/section/main/div/header/section/ul/li[3]/a/div')))\n",
    "        followers_btn.click()\n",
    "        \n",
    "        #locating followers list\n",
    "        frame = driver.find_element(By.XPATH,'//*[@id=\"mount_0_0_qt\"]/div/div[1]/div/div[2]/div/div/div[1]/div/div[2]/div/div/div')\n",
    "        #scrolling untill all users are located\n",
    "        for i in range(4):\n",
    "            time.sleep(1)\n",
    "            driver.execute_script(\"arguments[0].scrollTop=arguments[0].scrollHeight\",frame)\n",
    "        \n",
    "        names = []\n",
    "        #extracting userdata\n",
    "        following = driver.find_elements(By.XPATH,'//span[@class=\"_aacl _aaco _aacw _aacx _aad7 _aade\"]')\n",
    "        #extracting username\n",
    "        for i in following :\n",
    "                names.append(i.text.split('\\n')[0])\n",
    "            \n",
    "        return names\n",
    "    except TimeoutException :\n",
    "        print(\"Something Went Wrong!\")"
   ]
  },
  {
   "cell_type": "code",
   "execution_count": 132,
   "id": "cd305299",
   "metadata": {},
   "outputs": [],
   "source": [
    "followers_btn = wait.until(EC.presence_of_element_located((By.XPATH,'//*[@id=\"mount_0_0_qt\"]/div/div[1]/div/div[1]/div/div/div/div[1]/div[1]/section/main/div/header/section/ul/li[3]/a/div')))\n",
    "followers_btn.click()"
   ]
  },
  {
   "cell_type": "code",
   "execution_count": 133,
   "id": "378a5fef",
   "metadata": {},
   "outputs": [],
   "source": [
    "frame = driver.find_element(By.XPATH,'//*[@id=\"mount_0_0_qt\"]/div/div[1]/div/div[2]/div/div/div[1]/div/div[2]/div/div/div')"
   ]
  },
  {
   "cell_type": "code",
   "execution_count": 134,
   "id": "238cc6cf",
   "metadata": {},
   "outputs": [],
   "source": [
    "for i in range(2):\n",
    "    time.sleep(1)\n",
    "    driver.execute_script(\"arguments[0].scrollTop=arguments[0].scrollHeight\",frame)"
   ]
  },
  {
   "cell_type": "code",
   "execution_count": 136,
   "id": "aef3893d",
   "metadata": {},
   "outputs": [],
   "source": [
    "following = driver.find_elements(By.XPATH,'//span[@class=\"_aacl _aaco _aacw _aacx _aad7 _aade\"]')"
   ]
  },
  {
   "cell_type": "code",
   "execution_count": 142,
   "id": "d4a9561e",
   "metadata": {},
   "outputs": [],
   "source": [
    "names3=[]\n",
    "for x in following :\n",
    "                names3.append(x.text.split('\\n')[0])"
   ]
  },
  {
   "cell_type": "code",
   "execution_count": 143,
   "id": "0941cba7",
   "metadata": {},
   "outputs": [],
   "source": [
    "following=names3"
   ]
  },
  {
   "cell_type": "code",
   "execution_count": 144,
   "id": "5c7ff5b5",
   "metadata": {},
   "outputs": [],
   "source": [
    "driver.back()"
   ]
  },
  {
   "cell_type": "code",
   "execution_count": 145,
   "id": "7fe65dc1",
   "metadata": {},
   "outputs": [
    {
     "name": "stdout",
     "output_type": "stream",
     "text": [
      "Something Went Wrong!\n"
     ]
    }
   ],
   "source": [
    "followers_me=Extract_Followers_1()"
   ]
  },
  {
   "cell_type": "code",
   "execution_count": 146,
   "id": "d10fb3d2",
   "metadata": {},
   "outputs": [],
   "source": [
    "## AS there are no followers of the dummy account otherwise I would extract the followers using my function\n",
    "followers_me=[]\n"
   ]
  },
  {
   "cell_type": "code",
   "execution_count": 147,
   "id": "c8e09eb5",
   "metadata": {},
   "outputs": [],
   "source": [
    "followed_by_me=set(following)"
   ]
  },
  {
   "cell_type": "code",
   "execution_count": 148,
   "id": "1e31b83d",
   "metadata": {},
   "outputs": [],
   "source": [
    "s1=(followers_of_foodind).intersection(followed_by_me)"
   ]
  },
  {
   "cell_type": "code",
   "execution_count": 149,
   "id": "e91e1c00",
   "metadata": {},
   "outputs": [
    {
     "name": "stdout",
     "output_type": "stream",
     "text": [
      "No such users found\n"
     ]
    }
   ],
   "source": [
    "if len(s1) == 0:\n",
    "    print('No such users found')\n",
    "else:\n",
    "    #now extracting my followers\n",
    "    my_follower = set(followers_me)\n",
    "    #taking intersection with s1, so s2 contains only users that I am following them but they don’t follow me\n",
    "    s2=s1.intersection(my_follower)\n",
    "    if len(s2) == 0:\n",
    "        print('No such users found')\n",
    "    else:\n",
    "        for user in s2:\n",
    "            print(user)"
   ]
  },
  {
   "cell_type": "markdown",
   "id": "c22d90f9",
   "metadata": {},
   "source": [
    "# Problem 7\n"
   ]
  },
  {
   "cell_type": "code",
   "execution_count": 150,
   "id": "f2c4c8d5",
   "metadata": {},
   "outputs": [],
   "source": [
    "search_box = wait.until(EC.presence_of_element_located((By.CLASS_NAME,'_aaw8')))\n",
    "search_box.click() "
   ]
  },
  {
   "cell_type": "code",
   "execution_count": 152,
   "id": "ffafe202",
   "metadata": {},
   "outputs": [],
   "source": [
    "type_box = wait.until(EC.presence_of_element_located((By.XPATH,'//*[@id=\"mount_0_0_qt\"]/div/div[1]/div/div[1]/div/div/div/div[1]/div[1]/section/nav/div[2]/div/div/div[2]/input')))\n",
    "type_box.clear()"
   ]
  },
  {
   "cell_type": "code",
   "execution_count": 154,
   "id": "00940231",
   "metadata": {},
   "outputs": [],
   "source": [
    "type_box.send_keys('Coding ninjas')"
   ]
  },
  {
   "cell_type": "code",
   "execution_count": 155,
   "id": "1369eb6b",
   "metadata": {},
   "outputs": [],
   "source": [
    "res = wait.until(EC.presence_of_element_located((By.XPATH,'//*[@id=\"f11ac278cba5b9\"]/div/div/div')))\n",
    "res.click()   "
   ]
  },
  {
   "cell_type": "markdown",
   "id": "5283ea6f",
   "metadata": {},
   "source": [
    "## Height change is observed "
   ]
  },
  {
   "cell_type": "code",
   "execution_count": 215,
   "id": "e3750217",
   "metadata": {},
   "outputs": [],
   "source": [
    "\n",
    "def Check_Story():\n",
    "    try:\n",
    "        #locating story or profile pic\n",
    "        story = wait.until(EC.presence_of_element_located((By.XPATH,'//div[@class=\"_aarf _aarg\"]')))\n",
    "        #check the Profile photo size to find out story is available or not\n",
    "        height = driver.find_element(By.XPATH,'//div[@class=\"_aarf _aarg\"]/canvas').get_attribute('height')\n",
    "        if int(height) == 208:\n",
    "            print(\"Already seen the story\")\n",
    "        else:\n",
    "            print(\"Viewing the story\")\n",
    "            story.click()\n",
    "    except:\n",
    "        print(\"No story is available to view\")"
   ]
  },
  {
   "cell_type": "code",
   "execution_count": 218,
   "id": "83613bbb",
   "metadata": {},
   "outputs": [
    {
     "name": "stdout",
     "output_type": "stream",
     "text": [
      "Already seen the story\n"
     ]
    }
   ],
   "source": [
    "Check_Story()"
   ]
  },
  {
   "cell_type": "code",
   "execution_count": null,
   "id": "ffc88a34",
   "metadata": {},
   "outputs": [],
   "source": []
  }
 ],
 "metadata": {
  "kernelspec": {
   "display_name": "Python 3",
   "language": "python",
   "name": "python3"
  },
  "language_info": {
   "codemirror_mode": {
    "name": "ipython",
    "version": 3
   },
   "file_extension": ".py",
   "mimetype": "text/x-python",
   "name": "python",
   "nbconvert_exporter": "python",
   "pygments_lexer": "ipython3",
   "version": "3.8.8"
  }
 },
 "nbformat": 4,
 "nbformat_minor": 5
}
